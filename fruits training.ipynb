{
 "cells": [
  {
   "cell_type": "markdown",
   "id": "18bacb08",
   "metadata": {},
   "source": [
    "### fruits100"
   ]
  },
  {
   "cell_type": "code",
   "execution_count": 1,
   "id": "e24c29e9",
   "metadata": {},
   "outputs": [],
   "source": [
    "from keras.preprocessing.image import ImageDataGenerator\n",
    "\n",
    "train_datagen = ImageDataGenerator(rescale = 1./255,\n",
    "                                   shear_range = 0.2,\n",
    "                                   zoom_range = 0.2,\n",
    "                                   horizontal_flip = True)\n",
    "\n",
    "test_datagen = ImageDataGenerator(rescale = 1)"
   ]
  },
  {
   "cell_type": "code",
   "execution_count": 2,
   "id": "463a5ecb",
   "metadata": {},
   "outputs": [
    {
     "name": "stdout",
     "output_type": "stream",
     "text": [
      "Found 5384 images belonging to 6 classes.\n"
     ]
    }
   ],
   "source": [
    "training_set = train_datagen.flow_from_directory(r\"D:\\datasets\\Fertilizers_Recommendation_ System_For_Disease_ Prediction\\Dataset Plant Disease\\fruit-dataset\\fruit-dataset\\train\",\n",
    "                                                 target_size = (128, 128),\n",
    "                                                 batch_size = 16,\n",
    "                                                 class_mode = 'categorical')"
   ]
  },
  {
   "cell_type": "code",
   "execution_count": 119,
   "id": "0d14eaf9",
   "metadata": {},
   "outputs": [
    {
     "name": "stdout",
     "output_type": "stream",
     "text": [
      "Found 1491 images belonging to 6 classes.\n"
     ]
    }
   ],
   "source": [
    "test_set = test_datagen.flow_from_directory(r\"D:\\datasets\\Fertilizers_Recommendation_ System_For_Disease_ Prediction\\Dataset Plant Disease\\fruit-dataset\\fruit-dataset\\test\",\n",
    "                                                 target_size = (128, 128),\n",
    "                                                 batch_size = 16,\n",
    "                                                 class_mode = 'categorical')"
   ]
  },
  {
   "cell_type": "code",
   "execution_count": 120,
   "id": "078b8c7c",
   "metadata": {},
   "outputs": [],
   "source": [
    "from tensorflow.keras.models import Sequential\n",
    "from tensorflow.keras.layers import Conv2D\n",
    "from tensorflow.keras.layers import MaxPool2D\n",
    "from tensorflow.keras.layers import Flatten\n",
    "from tensorflow.keras.layers import Dense"
   ]
  },
  {
   "cell_type": "code",
   "execution_count": 121,
   "id": "188c66f5",
   "metadata": {},
   "outputs": [],
   "source": [
    "model=Sequential()"
   ]
  },
  {
   "cell_type": "code",
   "execution_count": 122,
   "id": "01adf5b4",
   "metadata": {},
   "outputs": [],
   "source": [
    "model.add(Conv2D(32,(3,3),activation='relu',input_shape=(128,128,3)))"
   ]
  },
  {
   "cell_type": "code",
   "execution_count": 123,
   "id": "0605a033",
   "metadata": {},
   "outputs": [],
   "source": [
    "model.add(MaxPool2D(2,2))"
   ]
  },
  {
   "cell_type": "code",
   "execution_count": 124,
   "id": "0fe5453c",
   "metadata": {},
   "outputs": [],
   "source": [
    "model.add(Conv2D(64,(3,3),activation='relu'))\n",
    "model.add(MaxPool2D(2,2))  \n",
    "model.add(Conv2D(128,(3,3),activation='relu'))\n",
    "model.add(MaxPool2D(2,2))  \n",
    "model.add(Conv2D(256,(3,3),activation='relu'))\n",
    "model.add(MaxPool2D(2,2))  \n",
    "model.add(Conv2D(512,(3,3),activation='relu'))\n",
    "model.add(MaxPool2D(2,2))  \n",
    "model.add(Flatten())"
   ]
  },
  {
   "cell_type": "code",
   "execution_count": 125,
   "id": "33ad9b71",
   "metadata": {},
   "outputs": [],
   "source": [
    "model.add(Dense(200,activation='relu'))\n",
    "model.add(Dense(100,activation='relu'))\n",
    "model.add(Dense(50,activation='relu'))\n",
    "model.add(Dense(6,activation='softmax'))\n",
    "model.compile(loss='categorical_crossentropy',optimizer='adam',metrics=['accuracy'])"
   ]
  },
  {
   "cell_type": "code",
   "execution_count": 126,
   "id": "3fa9ffe4",
   "metadata": {},
   "outputs": [
    {
     "name": "stdout",
     "output_type": "stream",
     "text": [
      "Epoch 1/100\n"
     ]
    },
    {
     "name": "stderr",
     "output_type": "stream",
     "text": [
      "C:\\Users\\amang\\AppData\\Local\\Temp\\ipykernel_26136\\2330748414.py:1: UserWarning: `Model.fit_generator` is deprecated and will be removed in a future version. Please use `Model.fit`, which supports generators.\n",
      "  model.fit_generator(\n"
     ]
    },
    {
     "name": "stdout",
     "output_type": "stream",
     "text": [
      "337/337 [==============================] - 102s 298ms/step - loss: 1.2100 - accuracy: 0.5167 - val_loss: 104.3341 - val_accuracy: 0.6989\n",
      "Epoch 2/100\n",
      "337/337 [==============================] - 103s 306ms/step - loss: 0.6667 - accuracy: 0.7662 - val_loss: 126.3680 - val_accuracy: 0.7002\n",
      "Epoch 3/100\n",
      "337/337 [==============================] - 101s 301ms/step - loss: 0.3359 - accuracy: 0.8876 - val_loss: 256.2170 - val_accuracy: 0.6304\n",
      "Epoch 4/100\n",
      "337/337 [==============================] - 105s 312ms/step - loss: 0.2996 - accuracy: 0.8982 - val_loss: 1155.2084 - val_accuracy: 0.4608\n",
      "Epoch 5/100\n",
      "337/337 [==============================] - 101s 301ms/step - loss: 0.1724 - accuracy: 0.9411 - val_loss: 206.0623 - val_accuracy: 0.6325\n",
      "Epoch 6/100\n",
      "337/337 [==============================] - 101s 300ms/step - loss: 0.1752 - accuracy: 0.9422 - val_loss: 347.4073 - val_accuracy: 0.6492\n",
      "Epoch 7/100\n",
      "337/337 [==============================] - 101s 301ms/step - loss: 0.1530 - accuracy: 0.9517 - val_loss: 159.3891 - val_accuracy: 0.4205\n",
      "Epoch 8/100\n",
      "337/337 [==============================] - 103s 305ms/step - loss: 0.1638 - accuracy: 0.9513 - val_loss: 268.0424 - val_accuracy: 0.2039\n",
      "Epoch 9/100\n",
      "337/337 [==============================] - 104s 307ms/step - loss: 0.1199 - accuracy: 0.9599 - val_loss: 303.5663 - val_accuracy: 0.4453\n",
      "Epoch 10/100\n",
      "337/337 [==============================] - 103s 306ms/step - loss: 0.0961 - accuracy: 0.9660 - val_loss: 289.2993 - val_accuracy: 0.4950\n",
      "Epoch 11/100\n",
      "337/337 [==============================] - 102s 303ms/step - loss: 0.1068 - accuracy: 0.9664 - val_loss: 185.1480 - val_accuracy: 0.6385\n",
      "Epoch 12/100\n",
      "337/337 [==============================] - 102s 304ms/step - loss: 0.1081 - accuracy: 0.9655 - val_loss: 564.5248 - val_accuracy: 0.4192\n",
      "Epoch 13/100\n",
      "337/337 [==============================] - 103s 304ms/step - loss: 0.1361 - accuracy: 0.9593 - val_loss: 2099.1909 - val_accuracy: 0.3776\n",
      "Epoch 14/100\n",
      "337/337 [==============================] - 104s 307ms/step - loss: 0.0992 - accuracy: 0.9643 - val_loss: 1065.5974 - val_accuracy: 0.4359\n",
      "Epoch 15/100\n",
      "337/337 [==============================] - 103s 306ms/step - loss: 0.0726 - accuracy: 0.9785 - val_loss: 4403.4331 - val_accuracy: 0.3628\n",
      "Epoch 16/100\n",
      "337/337 [==============================] - 103s 304ms/step - loss: 0.0854 - accuracy: 0.9727 - val_loss: 1881.8895 - val_accuracy: 0.3917\n",
      "Epoch 17/100\n",
      "337/337 [==============================] - 102s 302ms/step - loss: 0.0783 - accuracy: 0.9757 - val_loss: 434.2503 - val_accuracy: 0.6043\n",
      "Epoch 18/100\n",
      "337/337 [==============================] - 103s 304ms/step - loss: 0.0734 - accuracy: 0.9779 - val_loss: 490.3297 - val_accuracy: 0.3910\n",
      "Epoch 19/100\n",
      "337/337 [==============================] - 102s 302ms/step - loss: 0.0546 - accuracy: 0.9825 - val_loss: 1014.4592 - val_accuracy: 0.4326\n",
      "Epoch 20/100\n",
      "337/337 [==============================] - 102s 301ms/step - loss: 0.0463 - accuracy: 0.9835 - val_loss: 2312.4563 - val_accuracy: 0.3984\n",
      "Epoch 21/100\n",
      "337/337 [==============================] - 101s 299ms/step - loss: 0.0844 - accuracy: 0.9721 - val_loss: 504.3038 - val_accuracy: 0.6264\n",
      "Epoch 22/100\n",
      "337/337 [==============================] - 101s 301ms/step - loss: 0.0798 - accuracy: 0.9740 - val_loss: 812.6259 - val_accuracy: 0.6258\n",
      "Epoch 23/100\n",
      "337/337 [==============================] - 102s 302ms/step - loss: 0.0544 - accuracy: 0.9846 - val_loss: 1003.6285 - val_accuracy: 0.4909\n",
      "Epoch 24/100\n",
      "337/337 [==============================] - 101s 300ms/step - loss: 0.1159 - accuracy: 0.9603 - val_loss: 269.2919 - val_accuracy: 0.5104\n",
      "Epoch 25/100\n",
      "337/337 [==============================] - 102s 302ms/step - loss: 0.0606 - accuracy: 0.9794 - val_loss: 300.5202 - val_accuracy: 0.4547\n",
      "Epoch 26/100\n",
      "337/337 [==============================] - 102s 302ms/step - loss: 0.0861 - accuracy: 0.9703 - val_loss: 637.2361 - val_accuracy: 0.6130\n",
      "Epoch 27/100\n",
      "337/337 [==============================] - 103s 305ms/step - loss: 0.0880 - accuracy: 0.9746 - val_loss: 559.7437 - val_accuracy: 0.5594\n",
      "Epoch 28/100\n",
      "337/337 [==============================] - 101s 301ms/step - loss: 0.0763 - accuracy: 0.9768 - val_loss: 321.2862 - val_accuracy: 0.3132\n",
      "Epoch 29/100\n",
      "337/337 [==============================] - 101s 300ms/step - loss: 0.0542 - accuracy: 0.9824 - val_loss: 364.1296 - val_accuracy: 0.4889\n",
      "Epoch 30/100\n",
      "337/337 [==============================] - 102s 302ms/step - loss: 0.0366 - accuracy: 0.9877 - val_loss: 1499.4537 - val_accuracy: 0.4299\n",
      "Epoch 31/100\n",
      "337/337 [==============================] - 100s 297ms/step - loss: 0.0463 - accuracy: 0.9850 - val_loss: 472.5580 - val_accuracy: 0.5023\n",
      "Epoch 32/100\n",
      "337/337 [==============================] - 94s 279ms/step - loss: 0.0836 - accuracy: 0.9759 - val_loss: 810.7945 - val_accuracy: 0.4131\n",
      "Epoch 33/100\n",
      "337/337 [==============================] - 92s 274ms/step - loss: 0.0366 - accuracy: 0.9881 - val_loss: 2488.4202 - val_accuracy: 0.4621\n",
      "Epoch 34/100\n",
      "337/337 [==============================] - 92s 274ms/step - loss: 0.0438 - accuracy: 0.9855 - val_loss: 1727.6301 - val_accuracy: 0.4748\n",
      "Epoch 35/100\n",
      "337/337 [==============================] - 92s 273ms/step - loss: 0.0662 - accuracy: 0.9812 - val_loss: 462.8377 - val_accuracy: 0.6358\n",
      "Epoch 36/100\n",
      "337/337 [==============================] - 92s 273ms/step - loss: 0.0536 - accuracy: 0.9848 - val_loss: 891.1921 - val_accuracy: 0.5875\n",
      "Epoch 37/100\n",
      "337/337 [==============================] - 92s 272ms/step - loss: 0.0493 - accuracy: 0.9863 - val_loss: 1663.2689 - val_accuracy: 0.4500\n",
      "Epoch 38/100\n",
      "337/337 [==============================] - 91s 271ms/step - loss: 0.0254 - accuracy: 0.9920 - val_loss: 1921.9550 - val_accuracy: 0.4816\n",
      "Epoch 39/100\n",
      "337/337 [==============================] - 92s 272ms/step - loss: 0.0494 - accuracy: 0.9846 - val_loss: 429.4031 - val_accuracy: 0.5915\n",
      "Epoch 40/100\n",
      "337/337 [==============================] - 92s 272ms/step - loss: 0.0400 - accuracy: 0.9874 - val_loss: 3631.4863 - val_accuracy: 0.4091\n",
      "Epoch 41/100\n",
      "337/337 [==============================] - 93s 277ms/step - loss: 0.0346 - accuracy: 0.9883 - val_loss: 329.9531 - val_accuracy: 0.5278\n",
      "Epoch 42/100\n",
      "337/337 [==============================] - 92s 273ms/step - loss: 0.0386 - accuracy: 0.9881 - val_loss: 250.8492 - val_accuracy: 0.6184\n",
      "Epoch 43/100\n",
      "337/337 [==============================] - 92s 273ms/step - loss: 0.0512 - accuracy: 0.9857 - val_loss: 3741.6104 - val_accuracy: 0.4058\n",
      "Epoch 44/100\n",
      "337/337 [==============================] - 93s 275ms/step - loss: 0.0277 - accuracy: 0.9907 - val_loss: 6564.8433 - val_accuracy: 0.3970\n",
      "Epoch 45/100\n",
      "337/337 [==============================] - 93s 275ms/step - loss: 0.0934 - accuracy: 0.9729 - val_loss: 360.0742 - val_accuracy: 0.5312\n",
      "Epoch 46/100\n",
      "337/337 [==============================] - 93s 277ms/step - loss: 0.0372 - accuracy: 0.9892 - val_loss: 917.3607 - val_accuracy: 0.2341\n",
      "Epoch 47/100\n",
      "337/337 [==============================] - 93s 275ms/step - loss: 0.0330 - accuracy: 0.9890 - val_loss: 676.1757 - val_accuracy: 0.3226\n",
      "Epoch 48/100\n",
      "337/337 [==============================] - 92s 273ms/step - loss: 0.0260 - accuracy: 0.9915 - val_loss: 444.5444 - val_accuracy: 0.4165\n",
      "Epoch 49/100\n",
      "337/337 [==============================] - 92s 273ms/step - loss: 0.0163 - accuracy: 0.9963 - val_loss: 965.6107 - val_accuracy: 0.3172\n",
      "Epoch 50/100\n",
      "337/337 [==============================] - 93s 276ms/step - loss: 0.0322 - accuracy: 0.9892 - val_loss: 532.1396 - val_accuracy: 0.4091\n",
      "Epoch 51/100\n",
      "337/337 [==============================] - 92s 273ms/step - loss: 0.0334 - accuracy: 0.9894 - val_loss: 615.9431 - val_accuracy: 0.6613\n",
      "Epoch 52/100\n",
      "337/337 [==============================] - 92s 273ms/step - loss: 0.0403 - accuracy: 0.9866 - val_loss: 339.2786 - val_accuracy: 0.5191\n",
      "Epoch 53/100\n",
      "337/337 [==============================] - 92s 274ms/step - loss: 0.0322 - accuracy: 0.9915 - val_loss: 243.8373 - val_accuracy: 0.5285\n",
      "Epoch 54/100\n",
      "337/337 [==============================] - 93s 274ms/step - loss: 0.1023 - accuracy: 0.9707 - val_loss: 6182.1665 - val_accuracy: 0.3910\n",
      "Epoch 55/100\n",
      "337/337 [==============================] - 92s 274ms/step - loss: 0.0300 - accuracy: 0.9894 - val_loss: 1125.9556 - val_accuracy: 0.4125\n"
     ]
    },
    {
     "name": "stdout",
     "output_type": "stream",
     "text": [
      "Epoch 56/100\n",
      "337/337 [==============================] - 93s 276ms/step - loss: 0.0473 - accuracy: 0.9870 - val_loss: 708.7103 - val_accuracy: 0.4869\n",
      "Epoch 57/100\n",
      "337/337 [==============================] - 92s 273ms/step - loss: 0.0239 - accuracy: 0.9926 - val_loss: 650.2727 - val_accuracy: 0.5493\n",
      "Epoch 58/100\n",
      "337/337 [==============================] - 92s 272ms/step - loss: 0.0296 - accuracy: 0.9916 - val_loss: 1472.2335 - val_accuracy: 0.4702\n",
      "Epoch 59/100\n",
      "337/337 [==============================] - 92s 273ms/step - loss: 0.0511 - accuracy: 0.9874 - val_loss: 1438.2438 - val_accuracy: 0.3897\n",
      "Epoch 60/100\n",
      "337/337 [==============================] - 92s 273ms/step - loss: 0.0163 - accuracy: 0.9944 - val_loss: 2612.9221 - val_accuracy: 0.3763\n",
      "Epoch 61/100\n",
      "337/337 [==============================] - 92s 272ms/step - loss: 0.0870 - accuracy: 0.9751 - val_loss: 430.5396 - val_accuracy: 0.6030\n",
      "Epoch 62/100\n",
      "337/337 [==============================] - 92s 273ms/step - loss: 0.0198 - accuracy: 0.9948 - val_loss: 774.4360 - val_accuracy: 0.4842\n",
      "Epoch 63/100\n",
      "337/337 [==============================] - 92s 273ms/step - loss: 0.0265 - accuracy: 0.9915 - val_loss: 1997.9489 - val_accuracy: 0.4561\n",
      "Epoch 64/100\n",
      "337/337 [==============================] - 92s 273ms/step - loss: 0.0249 - accuracy: 0.9935 - val_loss: 421.0196 - val_accuracy: 0.5755\n",
      "Epoch 65/100\n",
      "337/337 [==============================] - 92s 272ms/step - loss: 0.0220 - accuracy: 0.9926 - val_loss: 2707.2896 - val_accuracy: 0.3984\n",
      "Epoch 66/100\n",
      "337/337 [==============================] - 93s 275ms/step - loss: 0.0156 - accuracy: 0.9961 - val_loss: 312.1636 - val_accuracy: 0.5828\n",
      "Epoch 67/100\n",
      "337/337 [==============================] - 92s 272ms/step - loss: 0.0329 - accuracy: 0.9903 - val_loss: 595.9161 - val_accuracy: 0.3622\n",
      "Epoch 68/100\n",
      "337/337 [==============================] - 92s 273ms/step - loss: 0.0145 - accuracy: 0.9952 - val_loss: 482.0518 - val_accuracy: 0.3997\n",
      "Epoch 69/100\n",
      "337/337 [==============================] - 92s 273ms/step - loss: 0.0358 - accuracy: 0.9902 - val_loss: 381.7298 - val_accuracy: 0.4192\n",
      "Epoch 70/100\n",
      "337/337 [==============================] - 92s 272ms/step - loss: 0.0364 - accuracy: 0.9898 - val_loss: 4969.2705 - val_accuracy: 0.3756\n",
      "Epoch 71/100\n",
      "337/337 [==============================] - 92s 274ms/step - loss: 0.0949 - accuracy: 0.9766 - val_loss: 962.3394 - val_accuracy: 0.5627\n",
      "Epoch 72/100\n",
      "337/337 [==============================] - 92s 273ms/step - loss: 0.1702 - accuracy: 0.9638 - val_loss: 510.3787 - val_accuracy: 0.5526\n",
      "Epoch 73/100\n",
      "337/337 [==============================] - 94s 280ms/step - loss: 0.0252 - accuracy: 0.9929 - val_loss: 658.8843 - val_accuracy: 0.3414\n",
      "Epoch 74/100\n",
      "337/337 [==============================] - 92s 274ms/step - loss: 0.0163 - accuracy: 0.9950 - val_loss: 972.5668 - val_accuracy: 0.4588\n",
      "Epoch 75/100\n",
      "337/337 [==============================] - 92s 272ms/step - loss: 0.0257 - accuracy: 0.9928 - val_loss: 465.3520 - val_accuracy: 0.4889\n",
      "Epoch 76/100\n",
      "337/337 [==============================] - 93s 275ms/step - loss: 0.0306 - accuracy: 0.9915 - val_loss: 665.6671 - val_accuracy: 0.4775\n",
      "Epoch 77/100\n",
      "337/337 [==============================] - 92s 272ms/step - loss: 0.0087 - accuracy: 0.9976 - val_loss: 1044.5726 - val_accuracy: 0.4433\n",
      "Epoch 78/100\n",
      "337/337 [==============================] - 93s 276ms/step - loss: 0.0407 - accuracy: 0.9892 - val_loss: 644.5967 - val_accuracy: 0.4004\n",
      "Epoch 79/100\n",
      "337/337 [==============================] - 92s 273ms/step - loss: 0.0066 - accuracy: 0.9980 - val_loss: 733.9203 - val_accuracy: 0.5386\n",
      "Epoch 80/100\n",
      "337/337 [==============================] - 92s 272ms/step - loss: 0.0127 - accuracy: 0.9959 - val_loss: 852.3214 - val_accuracy: 0.5077\n",
      "Epoch 81/100\n",
      "337/337 [==============================] - 92s 272ms/step - loss: 0.0208 - accuracy: 0.9937 - val_loss: 688.8564 - val_accuracy: 0.5077\n",
      "Epoch 82/100\n",
      "337/337 [==============================] - 92s 272ms/step - loss: 0.0520 - accuracy: 0.9848 - val_loss: 3875.3804 - val_accuracy: 0.4574\n",
      "Epoch 83/100\n",
      "337/337 [==============================] - 92s 273ms/step - loss: 0.0234 - accuracy: 0.9937 - val_loss: 1013.1346 - val_accuracy: 0.5620\n",
      "Epoch 84/100\n",
      "337/337 [==============================] - 92s 272ms/step - loss: 0.0254 - accuracy: 0.9924 - val_loss: 2492.8398 - val_accuracy: 0.4178\n",
      "Epoch 85/100\n",
      "337/337 [==============================] - 92s 273ms/step - loss: 0.0155 - accuracy: 0.9952 - val_loss: 1315.5763 - val_accuracy: 0.5654\n",
      "Epoch 86/100\n",
      "337/337 [==============================] - 94s 277ms/step - loss: 0.0347 - accuracy: 0.9920 - val_loss: 3324.1130 - val_accuracy: 0.3883\n",
      "Epoch 87/100\n",
      "337/337 [==============================] - 92s 273ms/step - loss: 0.0203 - accuracy: 0.9941 - val_loss: 606.8376 - val_accuracy: 0.4883\n",
      "Epoch 88/100\n",
      "337/337 [==============================] - 92s 272ms/step - loss: 0.0240 - accuracy: 0.9944 - val_loss: 1549.4927 - val_accuracy: 0.4822\n",
      "Epoch 89/100\n",
      "337/337 [==============================] - 92s 274ms/step - loss: 0.0322 - accuracy: 0.9918 - val_loss: 2298.5273 - val_accuracy: 0.2186\n",
      "Epoch 90/100\n",
      "337/337 [==============================] - 92s 273ms/step - loss: 0.0293 - accuracy: 0.9902 - val_loss: 2632.8733 - val_accuracy: 0.3843\n",
      "Epoch 91/100\n",
      "337/337 [==============================] - 92s 272ms/step - loss: 0.0357 - accuracy: 0.9915 - val_loss: 5150.6128 - val_accuracy: 0.4648\n",
      "Epoch 92/100\n",
      "337/337 [==============================] - 92s 273ms/step - loss: 0.0311 - accuracy: 0.9913 - val_loss: 530.6954 - val_accuracy: 0.5520\n",
      "Epoch 93/100\n",
      "337/337 [==============================] - 92s 273ms/step - loss: 0.0137 - accuracy: 0.9957 - val_loss: 861.1691 - val_accuracy: 0.5339\n",
      "Epoch 94/100\n",
      "337/337 [==============================] - 92s 274ms/step - loss: 0.0131 - accuracy: 0.9955 - val_loss: 2416.5972 - val_accuracy: 0.4909\n",
      "Epoch 95/100\n",
      "337/337 [==============================] - 93s 275ms/step - loss: 0.0667 - accuracy: 0.9829 - val_loss: 7582.1880 - val_accuracy: 0.4071\n",
      "Epoch 96/100\n",
      "337/337 [==============================] - 93s 275ms/step - loss: 0.0534 - accuracy: 0.9870 - val_loss: 4562.9585 - val_accuracy: 0.5902\n",
      "Epoch 97/100\n",
      "337/337 [==============================] - 92s 274ms/step - loss: 0.0174 - accuracy: 0.9948 - val_loss: 32735.3984 - val_accuracy: 0.3964\n",
      "Epoch 98/100\n",
      "337/337 [==============================] - 93s 275ms/step - loss: 0.0950 - accuracy: 0.9824 - val_loss: 3474.4324 - val_accuracy: 0.5218\n",
      "Epoch 99/100\n",
      "337/337 [==============================] - 93s 277ms/step - loss: 0.0169 - accuracy: 0.9954 - val_loss: 3486.9836 - val_accuracy: 0.5392\n",
      "Epoch 100/100\n",
      "337/337 [==============================] - 93s 275ms/step - loss: 0.0318 - accuracy: 0.9941 - val_loss: 2520.4697 - val_accuracy: 0.5922\n"
     ]
    },
    {
     "data": {
      "text/plain": [
       "<keras.callbacks.History at 0x21ad3cd9400>"
      ]
     },
     "execution_count": 126,
     "metadata": {},
     "output_type": "execute_result"
    }
   ],
   "source": [
    " model.fit_generator(\n",
    "  training_set,\n",
    "  validation_data=test_set,\n",
    "  epochs=100,\n",
    "  steps_per_epoch=len(training_set),\n",
    "  validation_steps=len(test_set)\n",
    ")"
   ]
  },
  {
   "cell_type": "code",
   "execution_count": 127,
   "id": "0d88e6d7",
   "metadata": {},
   "outputs": [],
   "source": [
    "model.save('fruits.h5')"
   ]
  },
  {
   "cell_type": "markdown",
   "id": "68004f55",
   "metadata": {},
   "source": [
    "### Fruits10"
   ]
  },
  {
   "cell_type": "code",
   "execution_count": 153,
   "id": "018d1bb7",
   "metadata": {},
   "outputs": [],
   "source": [
    "from keras.preprocessing.image import ImageDataGenerator\n",
    "\n",
    "train_datagen = ImageDataGenerator(rescale = 1./255,\n",
    "                                   shear_range = 0.2,\n",
    "                                   zoom_range = 0.2,\n",
    "                                   horizontal_flip = True)\n",
    "\n",
    "test_datagen = ImageDataGenerator(rescale = 1)"
   ]
  },
  {
   "cell_type": "code",
   "execution_count": 154,
   "id": "d794f8b2",
   "metadata": {},
   "outputs": [
    {
     "name": "stdout",
     "output_type": "stream",
     "text": [
      "Found 5384 images belonging to 6 classes.\n"
     ]
    }
   ],
   "source": [
    "training_set = train_datagen.flow_from_directory(r\"D:\\datasets\\Fertilizers_Recommendation_ System_For_Disease_ Prediction\\Dataset Plant Disease\\fruit-dataset\\fruit-dataset\\train\",\n",
    "                                                 target_size = (128, 128),\n",
    "                                                 batch_size = 16,\n",
    "                                                 class_mode = 'categorical')"
   ]
  },
  {
   "cell_type": "code",
   "execution_count": 155,
   "id": "6b51bc33",
   "metadata": {},
   "outputs": [
    {
     "name": "stdout",
     "output_type": "stream",
     "text": [
      "Found 1491 images belonging to 6 classes.\n"
     ]
    }
   ],
   "source": [
    "test_set = test_datagen.flow_from_directory(r\"D:\\datasets\\Fertilizers_Recommendation_ System_For_Disease_ Prediction\\Dataset Plant Disease\\fruit-dataset\\fruit-dataset\\test\",\n",
    "                                                 target_size = (128, 128),\n",
    "                                                 batch_size = 16,\n",
    "                                                 class_mode = 'categorical')"
   ]
  },
  {
   "cell_type": "code",
   "execution_count": 156,
   "id": "1b3b1b22",
   "metadata": {},
   "outputs": [],
   "source": [
    "from tensorflow.keras.models import Sequential\n",
    "from tensorflow.keras.layers import Conv2D\n",
    "from tensorflow.keras.layers import MaxPool2D\n",
    "from tensorflow.keras.layers import Flatten\n",
    "from tensorflow.keras.layers import Dense"
   ]
  },
  {
   "cell_type": "code",
   "execution_count": 157,
   "id": "2ac4ff38",
   "metadata": {},
   "outputs": [],
   "source": [
    "model=Sequential()"
   ]
  },
  {
   "cell_type": "code",
   "execution_count": 158,
   "id": "5f75f8de",
   "metadata": {},
   "outputs": [],
   "source": [
    "model.add(Conv2D(32,(3,3),activation='relu',input_shape=(128,128,3)))"
   ]
  },
  {
   "cell_type": "code",
   "execution_count": 159,
   "id": "2351646e",
   "metadata": {},
   "outputs": [],
   "source": [
    "model.add(MaxPool2D(2,2))"
   ]
  },
  {
   "cell_type": "code",
   "execution_count": 160,
   "id": "8741a6ad",
   "metadata": {},
   "outputs": [],
   "source": [
    "model.add(Flatten())"
   ]
  },
  {
   "cell_type": "code",
   "execution_count": 161,
   "id": "21b90c21",
   "metadata": {},
   "outputs": [],
   "source": [
    "model.add(Dense(300,activation='relu'))\n",
    "model.add(Dense(150,activation='relu'))\n",
    "model.add(Dense(75,activation='relu'))\n",
    "model.add(Dense(6,activation='softmax'))\n",
    "model.compile(loss='categorical_crossentropy',optimizer='adam',metrics=['accuracy'])"
   ]
  },
  {
   "cell_type": "code",
   "execution_count": 162,
   "id": "7c5f05ac",
   "metadata": {},
   "outputs": [
    {
     "name": "stderr",
     "output_type": "stream",
     "text": [
      "C:\\Users\\amang\\AppData\\Local\\Temp\\ipykernel_26136\\1394922725.py:1: UserWarning: `Model.fit_generator` is deprecated and will be removed in a future version. Please use `Model.fit`, which supports generators.\n",
      "  model.fit_generator(\n"
     ]
    },
    {
     "name": "stdout",
     "output_type": "stream",
     "text": [
      "Epoch 1/10\n",
      "89/89 [==============================] - 49s 535ms/step - loss: 1.8290 - accuracy: 0.6348 - val_loss: 91.3441 - val_accuracy: 0.7801\n",
      "Epoch 2/10\n",
      "89/89 [==============================] - 41s 455ms/step - loss: 0.5258 - accuracy: 0.8265 - val_loss: 38.2981 - val_accuracy: 0.8657\n",
      "Epoch 3/10\n",
      "89/89 [==============================] - 36s 402ms/step - loss: 0.4002 - accuracy: 0.8673 - val_loss: 57.5166 - val_accuracy: 0.8056\n",
      "Epoch 4/10\n",
      "89/89 [==============================] - 34s 379ms/step - loss: 0.3098 - accuracy: 0.8975 - val_loss: 209.4127 - val_accuracy: 0.6759\n",
      "Epoch 5/10\n",
      "89/89 [==============================] - 34s 384ms/step - loss: 0.2837 - accuracy: 0.8989 - val_loss: 164.7056 - val_accuracy: 0.7454\n",
      "Epoch 6/10\n",
      "89/89 [==============================] - 31s 347ms/step - loss: 0.2591 - accuracy: 0.9075 - val_loss: 144.3721 - val_accuracy: 0.7477\n",
      "Epoch 7/10\n",
      "89/89 [==============================] - 30s 343ms/step - loss: 0.2475 - accuracy: 0.9101 - val_loss: 529.0474 - val_accuracy: 0.5069\n",
      "Epoch 8/10\n",
      "89/89 [==============================] - 29s 325ms/step - loss: 0.2296 - accuracy: 0.9188 - val_loss: 384.2505 - val_accuracy: 0.6759\n",
      "Epoch 9/10\n",
      "89/89 [==============================] - 29s 330ms/step - loss: 0.1782 - accuracy: 0.9389 - val_loss: 442.1465 - val_accuracy: 0.6134\n",
      "Epoch 10/10\n",
      "89/89 [==============================] - 27s 308ms/step - loss: 0.1787 - accuracy: 0.9382 - val_loss: 472.4930 - val_accuracy: 0.6713\n"
     ]
    },
    {
     "data": {
      "text/plain": [
       "<keras.callbacks.History at 0x21ad25947f0>"
      ]
     },
     "execution_count": 162,
     "metadata": {},
     "output_type": "execute_result"
    }
   ],
   "source": [
    " model.fit_generator(\n",
    "  training_set,\n",
    "  validation_data=test_set,\n",
    "  epochs=10,\n",
    "  steps_per_epoch=89,\n",
    "  validation_steps=27\n",
    ")"
   ]
  },
  {
   "cell_type": "code",
   "execution_count": 163,
   "id": "cde1e906",
   "metadata": {},
   "outputs": [],
   "source": [
    "model.save('fruits10.h5')"
   ]
  },
  {
   "cell_type": "markdown",
   "id": "a64ae11f",
   "metadata": {},
   "source": [
    "### VEGETABLE"
   ]
  },
  {
   "cell_type": "code",
   "execution_count": 129,
   "id": "82a49896",
   "metadata": {},
   "outputs": [],
   "source": [
    "from keras.preprocessing.image import ImageDataGenerator\n",
    "\n",
    "train_datagen = ImageDataGenerator(rescale = 1./255,\n",
    "                                   shear_range = 0.2,\n",
    "                                   zoom_range = 0.2,\n",
    "                                   horizontal_flip = True)\n",
    "\n",
    "test_datagen = ImageDataGenerator(rescale = 1)"
   ]
  },
  {
   "cell_type": "code",
   "execution_count": 130,
   "id": "5ae5d697",
   "metadata": {},
   "outputs": [
    {
     "name": "stdout",
     "output_type": "stream",
     "text": [
      "Found 11386 images belonging to 9 classes.\n"
     ]
    }
   ],
   "source": [
    "training_set = train_datagen.flow_from_directory(r\"D:\\datasets\\Fertilizers_Recommendation_ System_For_Disease_ Prediction\\Dataset Plant Disease\\Veg-dataset\\Veg-dataset\\train_set\",\n",
    "                                                 target_size = (128, 128),\n",
    "                                                 batch_size = 16,\n",
    "                                                 class_mode = 'categorical')"
   ]
  },
  {
   "cell_type": "code",
   "execution_count": 131,
   "id": "b086877a",
   "metadata": {},
   "outputs": [
    {
     "name": "stdout",
     "output_type": "stream",
     "text": [
      "Found 3416 images belonging to 9 classes.\n"
     ]
    }
   ],
   "source": [
    "test_set = test_datagen.flow_from_directory(r\"D:\\datasets\\Fertilizers_Recommendation_ System_For_Disease_ Prediction\\Dataset Plant Disease\\Veg-dataset\\Veg-dataset\\test_set\",\n",
    "                                                 target_size = (128,128),\n",
    "                                                 batch_size = 16,\n",
    "                                                 class_mode = 'categorical')"
   ]
  },
  {
   "cell_type": "code",
   "execution_count": 132,
   "id": "581940ae",
   "metadata": {},
   "outputs": [],
   "source": [
    "model=Sequential()"
   ]
  },
  {
   "cell_type": "code",
   "execution_count": 133,
   "id": "276c1fd3",
   "metadata": {},
   "outputs": [],
   "source": [
    "model.add(Conv2D(32,(3,3),activation='relu',input_shape=(128,128,3)))"
   ]
  },
  {
   "cell_type": "code",
   "execution_count": 134,
   "id": "754d7cb1",
   "metadata": {},
   "outputs": [],
   "source": [
    "model.add(MaxPool2D(2,2))"
   ]
  },
  {
   "cell_type": "code",
   "execution_count": 135,
   "id": "33405989",
   "metadata": {},
   "outputs": [],
   "source": [
    "model.add(Conv2D(64,(3,3),activation='relu'))\n",
    "model.add(MaxPool2D(2,2))  \n",
    "model.add(Conv2D(128,(3,3),activation='relu'))\n",
    "model.add(MaxPool2D(2,2))   \n",
    "model.add(Flatten())"
   ]
  },
  {
   "cell_type": "code",
   "execution_count": 136,
   "id": "d686f0ef",
   "metadata": {},
   "outputs": [],
   "source": [
    "model.add(Dense(200,activation='relu'))\n",
    "model.add(Dense(100,activation='relu'))\n",
    "model.add(Dense(50,activation='relu'))\n",
    "model.add(Dense(9,activation='softmax'))\n",
    "model.compile(loss='categorical_crossentropy',optimizer='adam',metrics=['accuracy'])"
   ]
  },
  {
   "cell_type": "code",
   "execution_count": 137,
   "id": "27b2fd01",
   "metadata": {},
   "outputs": [
    {
     "name": "stderr",
     "output_type": "stream",
     "text": [
      "C:\\Users\\amang\\AppData\\Local\\Temp\\ipykernel_26136\\1240479879.py:1: UserWarning: `Model.fit_generator` is deprecated and will be removed in a future version. Please use `Model.fit`, which supports generators.\n",
      "  model.fit_generator(\n"
     ]
    },
    {
     "name": "stdout",
     "output_type": "stream",
     "text": [
      "Epoch 1/200\n",
      "712/712 [==============================] - 388s 545ms/step - loss: 1.1022 - accuracy: 0.5942 - val_loss: 758.8117 - val_accuracy: 0.2848\n",
      "Epoch 2/200\n",
      "712/712 [==============================] - 165s 231ms/step - loss: 0.5125 - accuracy: 0.8142 - val_loss: 929.5507 - val_accuracy: 0.3645\n",
      "Epoch 3/200\n",
      "712/712 [==============================] - 163s 228ms/step - loss: 0.3550 - accuracy: 0.8784 - val_loss: 1002.5813 - val_accuracy: 0.3457\n",
      "Epoch 4/200\n",
      "712/712 [==============================] - 163s 228ms/step - loss: 0.2629 - accuracy: 0.9094 - val_loss: 1304.9443 - val_accuracy: 0.3595\n",
      "Epoch 5/200\n",
      "712/712 [==============================] - 162s 227ms/step - loss: 0.2269 - accuracy: 0.9220 - val_loss: 1531.4050 - val_accuracy: 0.3689\n",
      "Epoch 6/200\n",
      "712/712 [==============================] - 162s 228ms/step - loss: 0.2098 - accuracy: 0.9277 - val_loss: 1300.7178 - val_accuracy: 0.4479\n",
      "Epoch 7/200\n",
      "712/712 [==============================] - 163s 229ms/step - loss: 0.1609 - accuracy: 0.9448 - val_loss: 1415.7750 - val_accuracy: 0.4142\n",
      "Epoch 8/200\n",
      "712/712 [==============================] - 162s 228ms/step - loss: 0.1525 - accuracy: 0.9493 - val_loss: 1542.9080 - val_accuracy: 0.4090\n",
      "Epoch 9/200\n",
      "712/712 [==============================] - 162s 227ms/step - loss: 0.1184 - accuracy: 0.9590 - val_loss: 1733.5703 - val_accuracy: 0.4312\n",
      "Epoch 10/200\n",
      "712/712 [==============================] - 161s 226ms/step - loss: 0.1282 - accuracy: 0.9567 - val_loss: 1485.9427 - val_accuracy: 0.5269\n",
      "Epoch 11/200\n",
      "712/712 [==============================] - 162s 227ms/step - loss: 0.1094 - accuracy: 0.9621 - val_loss: 1824.6538 - val_accuracy: 0.3888\n",
      "Epoch 12/200\n",
      "712/712 [==============================] - 162s 227ms/step - loss: 0.1015 - accuracy: 0.9671 - val_loss: 1551.1534 - val_accuracy: 0.4716\n",
      "Epoch 13/200\n",
      "712/712 [==============================] - 168s 235ms/step - loss: 0.0964 - accuracy: 0.9688 - val_loss: 1045.1759 - val_accuracy: 0.4722\n",
      "Epoch 14/200\n",
      "712/712 [==============================] - 162s 227ms/step - loss: 0.1039 - accuracy: 0.9665 - val_loss: 1106.9990 - val_accuracy: 0.5389\n",
      "Epoch 15/200\n",
      "712/712 [==============================] - 162s 228ms/step - loss: 0.0903 - accuracy: 0.9706 - val_loss: 1494.5591 - val_accuracy: 0.4415\n",
      "Epoch 16/200\n",
      "712/712 [==============================] - 163s 228ms/step - loss: 0.0726 - accuracy: 0.9751 - val_loss: 1815.6447 - val_accuracy: 0.5164\n",
      "Epoch 17/200\n",
      "712/712 [==============================] - 163s 228ms/step - loss: 0.0779 - accuracy: 0.9758 - val_loss: 1225.8081 - val_accuracy: 0.4950\n",
      "Epoch 18/200\n",
      "712/712 [==============================] - 162s 228ms/step - loss: 0.0672 - accuracy: 0.9775 - val_loss: 1643.0699 - val_accuracy: 0.4801\n",
      "Epoch 19/200\n",
      "712/712 [==============================] - 163s 229ms/step - loss: 0.0916 - accuracy: 0.9703 - val_loss: 895.3271 - val_accuracy: 0.5100\n",
      "Epoch 20/200\n",
      "712/712 [==============================] - 162s 228ms/step - loss: 0.0625 - accuracy: 0.9791 - val_loss: 1557.3302 - val_accuracy: 0.5076\n",
      "Epoch 21/200\n",
      "712/712 [==============================] - 162s 227ms/step - loss: 0.0653 - accuracy: 0.9780 - val_loss: 1180.9862 - val_accuracy: 0.4886\n",
      "Epoch 22/200\n",
      "712/712 [==============================] - 162s 227ms/step - loss: 0.0587 - accuracy: 0.9807 - val_loss: 1194.7142 - val_accuracy: 0.5149\n",
      "Epoch 23/200\n",
      "712/712 [==============================] - 162s 227ms/step - loss: 0.0648 - accuracy: 0.9799 - val_loss: 1882.9955 - val_accuracy: 0.4643\n",
      "Epoch 24/200\n",
      "712/712 [==============================] - 163s 229ms/step - loss: 0.0625 - accuracy: 0.9809 - val_loss: 1991.9355 - val_accuracy: 0.4731\n",
      "Epoch 25/200\n",
      "712/712 [==============================] - 162s 228ms/step - loss: 0.0518 - accuracy: 0.9832 - val_loss: 1354.1560 - val_accuracy: 0.5568\n",
      "Epoch 26/200\n",
      "712/712 [==============================] - 162s 228ms/step - loss: 0.0600 - accuracy: 0.9803 - val_loss: 1653.0021 - val_accuracy: 0.5050\n",
      "Epoch 27/200\n",
      "712/712 [==============================] - 161s 227ms/step - loss: 0.0466 - accuracy: 0.9845 - val_loss: 1701.0780 - val_accuracy: 0.4760\n",
      "Epoch 28/200\n",
      "712/712 [==============================] - 162s 228ms/step - loss: 0.0494 - accuracy: 0.9835 - val_loss: 1344.0118 - val_accuracy: 0.5325\n",
      "Epoch 29/200\n",
      "712/712 [==============================] - 163s 230ms/step - loss: 0.0607 - accuracy: 0.9809 - val_loss: 1314.6514 - val_accuracy: 0.5056\n",
      "Epoch 30/200\n",
      "712/712 [==============================] - 165s 231ms/step - loss: 0.0483 - accuracy: 0.9857 - val_loss: 1908.7109 - val_accuracy: 0.4388\n",
      "Epoch 31/200\n",
      "712/712 [==============================] - 162s 228ms/step - loss: 0.0436 - accuracy: 0.9865 - val_loss: 1472.5979 - val_accuracy: 0.4953\n",
      "Epoch 32/200\n",
      "712/712 [==============================] - 162s 227ms/step - loss: 0.0502 - accuracy: 0.9839 - val_loss: 1894.3921 - val_accuracy: 0.4578\n",
      "Epoch 33/200\n",
      "712/712 [==============================] - 162s 227ms/step - loss: 0.0495 - accuracy: 0.9841 - val_loss: 1369.3392 - val_accuracy: 0.5108\n",
      "Epoch 34/200\n",
      "712/712 [==============================] - 162s 227ms/step - loss: 0.0508 - accuracy: 0.9847 - val_loss: 2239.7256 - val_accuracy: 0.4274\n",
      "Epoch 35/200\n",
      "712/712 [==============================] - 163s 229ms/step - loss: 0.0321 - accuracy: 0.9895 - val_loss: 1432.9645 - val_accuracy: 0.5304\n",
      "Epoch 36/200\n",
      "712/712 [==============================] - 163s 229ms/step - loss: 0.0570 - accuracy: 0.9835 - val_loss: 1784.1620 - val_accuracy: 0.4470\n",
      "Epoch 37/200\n",
      "712/712 [==============================] - 162s 227ms/step - loss: 0.0424 - accuracy: 0.9874 - val_loss: 1823.8641 - val_accuracy: 0.5146\n",
      "Epoch 38/200\n",
      "712/712 [==============================] - 161s 227ms/step - loss: 0.0453 - accuracy: 0.9857 - val_loss: 1544.9152 - val_accuracy: 0.4643\n",
      "Epoch 39/200\n",
      "712/712 [==============================] - 162s 227ms/step - loss: 0.0402 - accuracy: 0.9891 - val_loss: 1347.8152 - val_accuracy: 0.5310\n",
      "Epoch 40/200\n",
      "712/712 [==============================] - 162s 227ms/step - loss: 0.0461 - accuracy: 0.9862 - val_loss: 1146.5863 - val_accuracy: 0.5179\n",
      "Epoch 41/200\n",
      "712/712 [==============================] - 163s 229ms/step - loss: 0.0280 - accuracy: 0.9929 - val_loss: 1371.4424 - val_accuracy: 0.5064\n",
      "Epoch 42/200\n",
      "712/712 [==============================] - 162s 227ms/step - loss: 0.0430 - accuracy: 0.9886 - val_loss: 1548.7974 - val_accuracy: 0.5152\n",
      "Epoch 43/200\n",
      "712/712 [==============================] - 162s 227ms/step - loss: 0.0489 - accuracy: 0.9860 - val_loss: 2019.8545 - val_accuracy: 0.4341\n",
      "Epoch 44/200\n",
      "712/712 [==============================] - 162s 227ms/step - loss: 0.0253 - accuracy: 0.9930 - val_loss: 1502.5201 - val_accuracy: 0.4959\n",
      "Epoch 45/200\n",
      "712/712 [==============================] - 162s 227ms/step - loss: 0.0354 - accuracy: 0.9888 - val_loss: 1250.2101 - val_accuracy: 0.5158\n",
      "Epoch 46/200\n",
      "712/712 [==============================] - 162s 228ms/step - loss: 0.0346 - accuracy: 0.9903 - val_loss: 955.5258 - val_accuracy: 0.5785\n",
      "Epoch 47/200\n",
      "712/712 [==============================] - 163s 229ms/step - loss: 0.0373 - accuracy: 0.9887 - val_loss: 1083.5776 - val_accuracy: 0.5618\n",
      "Epoch 48/200\n",
      "712/712 [==============================] - 162s 227ms/step - loss: 0.0300 - accuracy: 0.9897 - val_loss: 1910.4634 - val_accuracy: 0.5088\n",
      "Epoch 49/200\n",
      "712/712 [==============================] - 163s 228ms/step - loss: 0.0452 - accuracy: 0.9884 - val_loss: 1170.9851 - val_accuracy: 0.4795\n",
      "Epoch 50/200\n",
      "712/712 [==============================] - 162s 228ms/step - loss: 0.0334 - accuracy: 0.9895 - val_loss: 698.7841 - val_accuracy: 0.5820\n",
      "Epoch 51/200\n",
      "712/712 [==============================] - 162s 227ms/step - loss: 0.0269 - accuracy: 0.9915 - val_loss: 1660.8040 - val_accuracy: 0.4915\n",
      "Epoch 52/200\n",
      "712/712 [==============================] - 163s 229ms/step - loss: 0.0397 - accuracy: 0.9875 - val_loss: 987.7032 - val_accuracy: 0.5828\n",
      "Epoch 53/200\n",
      "712/712 [==============================] - 162s 227ms/step - loss: 0.0379 - accuracy: 0.9895 - val_loss: 1399.6797 - val_accuracy: 0.5161\n",
      "Epoch 54/200\n",
      "712/712 [==============================] - 162s 228ms/step - loss: 0.0269 - accuracy: 0.9917 - val_loss: 1253.2603 - val_accuracy: 0.5293\n",
      "Epoch 55/200\n",
      "712/712 [==============================] - 161s 226ms/step - loss: 0.0312 - accuracy: 0.9910 - val_loss: 1022.7093 - val_accuracy: 0.5779\n",
      "Epoch 56/200\n",
      "712/712 [==============================] - 161s 226ms/step - loss: 0.0331 - accuracy: 0.9907 - val_loss: 1428.1746 - val_accuracy: 0.5129\n",
      "Epoch 57/200\n",
      "712/712 [==============================] - 164s 230ms/step - loss: 0.0546 - accuracy: 0.9851 - val_loss: 1095.5898 - val_accuracy: 0.5155\n",
      "Epoch 58/200\n",
      "712/712 [==============================] - 171s 240ms/step - loss: 0.0169 - accuracy: 0.9948 - val_loss: 1421.6887 - val_accuracy: 0.5334\n",
      "Epoch 59/200\n",
      "712/712 [==============================] - 162s 227ms/step - loss: 0.0344 - accuracy: 0.9904 - val_loss: 1304.1970 - val_accuracy: 0.5190\n",
      "Epoch 60/200\n",
      "712/712 [==============================] - 161s 226ms/step - loss: 0.0233 - accuracy: 0.9931 - val_loss: 1922.6858 - val_accuracy: 0.4842\n",
      "Epoch 61/200\n",
      "712/712 [==============================] - 164s 231ms/step - loss: 0.0392 - accuracy: 0.9888 - val_loss: 1202.4645 - val_accuracy: 0.5445\n",
      "Epoch 62/200\n",
      "712/712 [==============================] - 162s 228ms/step - loss: 0.0225 - accuracy: 0.9931 - val_loss: 1594.0151 - val_accuracy: 0.5345\n",
      "Epoch 63/200\n",
      "712/712 [==============================] - 163s 229ms/step - loss: 0.0404 - accuracy: 0.9885 - val_loss: 1249.6130 - val_accuracy: 0.5562\n",
      "Epoch 64/200\n",
      "712/712 [==============================] - 164s 230ms/step - loss: 0.0251 - accuracy: 0.9933 - val_loss: 2373.7046 - val_accuracy: 0.4766\n",
      "Epoch 65/200\n",
      "712/712 [==============================] - 163s 229ms/step - loss: 0.0278 - accuracy: 0.9929 - val_loss: 1890.5652 - val_accuracy: 0.5386\n",
      "Epoch 66/200\n",
      "712/712 [==============================] - 162s 227ms/step - loss: 0.0250 - accuracy: 0.9931 - val_loss: 1528.5120 - val_accuracy: 0.5129\n",
      "Epoch 67/200\n",
      "712/712 [==============================] - 162s 228ms/step - loss: 0.0202 - accuracy: 0.9937 - val_loss: 1587.7250 - val_accuracy: 0.5427\n",
      "Epoch 68/200\n",
      "712/712 [==============================] - 163s 229ms/step - loss: 0.0506 - accuracy: 0.9859 - val_loss: 1944.7838 - val_accuracy: 0.4054\n",
      "Epoch 69/200\n",
      "712/712 [==============================] - 165s 231ms/step - loss: 0.0132 - accuracy: 0.9958 - val_loss: 3423.2500 - val_accuracy: 0.5205\n",
      "Epoch 70/200\n",
      "712/712 [==============================] - 163s 229ms/step - loss: 0.0394 - accuracy: 0.9896 - val_loss: 1968.0154 - val_accuracy: 0.5155\n",
      "Epoch 71/200\n",
      "712/712 [==============================] - 163s 229ms/step - loss: 0.0241 - accuracy: 0.9939 - val_loss: 1584.5333 - val_accuracy: 0.5395\n",
      "Epoch 72/200\n",
      "712/712 [==============================] - 163s 229ms/step - loss: 0.0376 - accuracy: 0.9905 - val_loss: 1451.7424 - val_accuracy: 0.5369\n",
      "Epoch 73/200\n",
      "712/712 [==============================] - 162s 228ms/step - loss: 0.0216 - accuracy: 0.9935 - val_loss: 1655.6353 - val_accuracy: 0.5135\n",
      "Epoch 74/200\n",
      "712/712 [==============================] - 163s 228ms/step - loss: 0.0296 - accuracy: 0.9921 - val_loss: 1251.6398 - val_accuracy: 0.5363\n",
      "Epoch 75/200\n",
      "712/712 [==============================] - 163s 229ms/step - loss: 0.0302 - accuracy: 0.9909 - val_loss: 1286.6847 - val_accuracy: 0.5594\n",
      "Epoch 76/200\n",
      "712/712 [==============================] - 163s 229ms/step - loss: 0.0384 - accuracy: 0.9906 - val_loss: 934.6787 - val_accuracy: 0.5808\n",
      "Epoch 77/200\n",
      "712/712 [==============================] - 162s 228ms/step - loss: 0.0200 - accuracy: 0.9936 - val_loss: 1524.7516 - val_accuracy: 0.5594\n",
      "Epoch 78/200\n",
      "712/712 [==============================] - 162s 228ms/step - loss: 0.0153 - accuracy: 0.9955 - val_loss: 1729.2035 - val_accuracy: 0.5243\n",
      "Epoch 79/200\n",
      "712/712 [==============================] - 162s 228ms/step - loss: 0.0265 - accuracy: 0.9918 - val_loss: 1397.8302 - val_accuracy: 0.5714\n",
      "Epoch 80/200\n",
      "712/712 [==============================] - 163s 229ms/step - loss: 0.0295 - accuracy: 0.9917 - val_loss: 1721.5358 - val_accuracy: 0.5187\n",
      "Epoch 81/200\n",
      "712/712 [==============================] - 163s 229ms/step - loss: 0.0354 - accuracy: 0.9931 - val_loss: 2010.9424 - val_accuracy: 0.5208\n",
      "Epoch 82/200\n",
      "712/712 [==============================] - 162s 228ms/step - loss: 0.0232 - accuracy: 0.9941 - val_loss: 3189.2571 - val_accuracy: 0.4672\n",
      "Epoch 83/200\n",
      "712/712 [==============================] - 162s 228ms/step - loss: 0.0378 - accuracy: 0.9891 - val_loss: 3005.1912 - val_accuracy: 0.5053\n",
      "Epoch 84/200\n",
      "712/712 [==============================] - 162s 228ms/step - loss: 0.0123 - accuracy: 0.9970 - val_loss: 4309.9253 - val_accuracy: 0.4716\n",
      "Epoch 85/200\n",
      "712/712 [==============================] - 163s 229ms/step - loss: 0.0290 - accuracy: 0.9936 - val_loss: 1208.2194 - val_accuracy: 0.6054\n",
      "Epoch 86/200\n",
      "712/712 [==============================] - 163s 229ms/step - loss: 0.0280 - accuracy: 0.9917 - val_loss: 1203.6520 - val_accuracy: 0.5890\n",
      "Epoch 87/200\n",
      "712/712 [==============================] - 163s 229ms/step - loss: 0.0367 - accuracy: 0.9910 - val_loss: 1304.5962 - val_accuracy: 0.5100\n",
      "Epoch 88/200\n",
      "712/712 [==============================] - 162s 228ms/step - loss: 0.0210 - accuracy: 0.9946 - val_loss: 1226.0088 - val_accuracy: 0.5711\n",
      "Epoch 89/200\n",
      "712/712 [==============================] - 163s 229ms/step - loss: 0.0398 - accuracy: 0.9902 - val_loss: 1476.5259 - val_accuracy: 0.5378\n",
      "Epoch 90/200\n",
      "712/712 [==============================] - 164s 230ms/step - loss: 0.0375 - accuracy: 0.9910 - val_loss: 1430.9595 - val_accuracy: 0.5468\n",
      "Epoch 91/200\n",
      "712/712 [==============================] - 164s 230ms/step - loss: 0.0153 - accuracy: 0.9957 - val_loss: 2023.0602 - val_accuracy: 0.5597\n",
      "Epoch 92/200\n",
      "712/712 [==============================] - 171s 241ms/step - loss: 0.0284 - accuracy: 0.9926 - val_loss: 2085.0093 - val_accuracy: 0.5275\n",
      "Epoch 93/200\n",
      "712/712 [==============================] - 180s 252ms/step - loss: 0.0320 - accuracy: 0.9920 - val_loss: 2819.6147 - val_accuracy: 0.4397\n",
      "Epoch 94/200\n",
      "712/712 [==============================] - 172s 242ms/step - loss: 0.0139 - accuracy: 0.9970 - val_loss: 1594.3682 - val_accuracy: 0.5310\n",
      "Epoch 95/200\n",
      "712/712 [==============================] - 172s 241ms/step - loss: 0.0306 - accuracy: 0.9928 - val_loss: 1672.9310 - val_accuracy: 0.5550\n",
      "Epoch 96/200\n",
      "712/712 [==============================] - 173s 242ms/step - loss: 0.0086 - accuracy: 0.9973 - val_loss: 1934.9882 - val_accuracy: 0.5509\n",
      "Epoch 97/200\n",
      "712/712 [==============================] - 172s 242ms/step - loss: 0.0406 - accuracy: 0.9910 - val_loss: 1731.4794 - val_accuracy: 0.6025\n",
      "Epoch 98/200\n",
      "712/712 [==============================] - 171s 240ms/step - loss: 0.0296 - accuracy: 0.9924 - val_loss: 2516.8020 - val_accuracy: 0.5357\n",
      "Epoch 99/200\n",
      "712/712 [==============================] - 171s 241ms/step - loss: 0.0343 - accuracy: 0.9922 - val_loss: 1744.2943 - val_accuracy: 0.5565\n",
      "Epoch 100/200\n",
      "712/712 [==============================] - 170s 239ms/step - loss: 0.0246 - accuracy: 0.9950 - val_loss: 3822.3796 - val_accuracy: 0.4265\n",
      "Epoch 101/200\n",
      "712/712 [==============================] - 171s 240ms/step - loss: 0.0102 - accuracy: 0.9975 - val_loss: 2543.8225 - val_accuracy: 0.5430\n",
      "Epoch 102/200\n",
      "712/712 [==============================] - 172s 241ms/step - loss: 0.0608 - accuracy: 0.9887 - val_loss: 2085.3843 - val_accuracy: 0.4786\n",
      "Epoch 103/200\n",
      "712/712 [==============================] - 171s 241ms/step - loss: 0.0208 - accuracy: 0.9950 - val_loss: 2098.4421 - val_accuracy: 0.5158\n",
      "Epoch 104/200\n",
      "712/712 [==============================] - 177s 248ms/step - loss: 0.0169 - accuracy: 0.9958 - val_loss: 3136.1836 - val_accuracy: 0.5222\n",
      "Epoch 105/200\n",
      "712/712 [==============================] - 235s 329ms/step - loss: 0.0351 - accuracy: 0.9913 - val_loss: 2729.9072 - val_accuracy: 0.4936\n",
      "Epoch 106/200\n",
      "712/712 [==============================] - 212s 298ms/step - loss: 0.0230 - accuracy: 0.9942 - val_loss: 2986.8337 - val_accuracy: 0.4950\n",
      "Epoch 107/200\n",
      "712/712 [==============================] - 180s 252ms/step - loss: 0.0291 - accuracy: 0.9940 - val_loss: 1926.6597 - val_accuracy: 0.4862\n",
      "Epoch 108/200\n",
      "712/712 [==============================] - ETA: 0s - loss: 0.0189 - accuracy: 0.9960"
     ]
    },
    {
     "ename": "KeyboardInterrupt",
     "evalue": "",
     "output_type": "error",
     "traceback": [
      "\u001b[1;31m---------------------------------------------------------------------------\u001b[0m",
      "\u001b[1;31mKeyboardInterrupt\u001b[0m                         Traceback (most recent call last)",
      "Input \u001b[1;32mIn [137]\u001b[0m, in \u001b[0;36m<cell line: 1>\u001b[1;34m()\u001b[0m\n\u001b[1;32m----> 1\u001b[0m \u001b[43mmodel\u001b[49m\u001b[38;5;241;43m.\u001b[39;49m\u001b[43mfit_generator\u001b[49m\u001b[43m(\u001b[49m\n\u001b[0;32m      2\u001b[0m \u001b[43m \u001b[49m\u001b[43mtraining_set\u001b[49m\u001b[43m,\u001b[49m\n\u001b[0;32m      3\u001b[0m \u001b[43m \u001b[49m\u001b[43mvalidation_data\u001b[49m\u001b[38;5;241;43m=\u001b[39;49m\u001b[43mtest_set\u001b[49m\u001b[43m,\u001b[49m\n\u001b[0;32m      4\u001b[0m \u001b[43m \u001b[49m\u001b[43mepochs\u001b[49m\u001b[38;5;241;43m=\u001b[39;49m\u001b[38;5;241;43m200\u001b[39;49m\u001b[43m,\u001b[49m\n\u001b[0;32m      5\u001b[0m \u001b[43m \u001b[49m\u001b[43msteps_per_epoch\u001b[49m\u001b[38;5;241;43m=\u001b[39;49m\u001b[38;5;28;43mlen\u001b[39;49m\u001b[43m(\u001b[49m\u001b[43mtraining_set\u001b[49m\u001b[43m)\u001b[49m\u001b[43m,\u001b[49m\n\u001b[0;32m      6\u001b[0m \u001b[43m \u001b[49m\u001b[43mvalidation_steps\u001b[49m\u001b[38;5;241;43m=\u001b[39;49m\u001b[38;5;28;43mlen\u001b[39;49m\u001b[43m(\u001b[49m\u001b[43mtest_set\u001b[49m\u001b[43m)\u001b[49m\n\u001b[0;32m      7\u001b[0m \u001b[43m)\u001b[49m\n",
      "File \u001b[1;32m~\\anaconda3\\lib\\site-packages\\keras\\engine\\training.py:2260\u001b[0m, in \u001b[0;36mModel.fit_generator\u001b[1;34m(self, generator, steps_per_epoch, epochs, verbose, callbacks, validation_data, validation_steps, validation_freq, class_weight, max_queue_size, workers, use_multiprocessing, shuffle, initial_epoch)\u001b[0m\n\u001b[0;32m   2249\u001b[0m \u001b[38;5;124;03m\"\"\"Fits the model on data yielded batch-by-batch by a Python generator.\u001b[39;00m\n\u001b[0;32m   2250\u001b[0m \n\u001b[0;32m   2251\u001b[0m \u001b[38;5;124;03mDEPRECATED:\u001b[39;00m\n\u001b[0;32m   2252\u001b[0m \u001b[38;5;124;03m  `Model.fit` now supports generators, so there is no longer any need to use\u001b[39;00m\n\u001b[0;32m   2253\u001b[0m \u001b[38;5;124;03m  this endpoint.\u001b[39;00m\n\u001b[0;32m   2254\u001b[0m \u001b[38;5;124;03m\"\"\"\u001b[39;00m\n\u001b[0;32m   2255\u001b[0m warnings\u001b[38;5;241m.\u001b[39mwarn(\n\u001b[0;32m   2256\u001b[0m     \u001b[38;5;124m'\u001b[39m\u001b[38;5;124m`Model.fit_generator` is deprecated and \u001b[39m\u001b[38;5;124m'\u001b[39m\n\u001b[0;32m   2257\u001b[0m     \u001b[38;5;124m'\u001b[39m\u001b[38;5;124mwill be removed in a future version. \u001b[39m\u001b[38;5;124m'\u001b[39m\n\u001b[0;32m   2258\u001b[0m     \u001b[38;5;124m'\u001b[39m\u001b[38;5;124mPlease use `Model.fit`, which supports generators.\u001b[39m\u001b[38;5;124m'\u001b[39m,\n\u001b[0;32m   2259\u001b[0m     stacklevel\u001b[38;5;241m=\u001b[39m\u001b[38;5;241m2\u001b[39m)\n\u001b[1;32m-> 2260\u001b[0m \u001b[38;5;28;01mreturn\u001b[39;00m \u001b[38;5;28;43mself\u001b[39;49m\u001b[38;5;241;43m.\u001b[39;49m\u001b[43mfit\u001b[49m\u001b[43m(\u001b[49m\n\u001b[0;32m   2261\u001b[0m \u001b[43m    \u001b[49m\u001b[43mgenerator\u001b[49m\u001b[43m,\u001b[49m\n\u001b[0;32m   2262\u001b[0m \u001b[43m    \u001b[49m\u001b[43msteps_per_epoch\u001b[49m\u001b[38;5;241;43m=\u001b[39;49m\u001b[43msteps_per_epoch\u001b[49m\u001b[43m,\u001b[49m\n\u001b[0;32m   2263\u001b[0m \u001b[43m    \u001b[49m\u001b[43mepochs\u001b[49m\u001b[38;5;241;43m=\u001b[39;49m\u001b[43mepochs\u001b[49m\u001b[43m,\u001b[49m\n\u001b[0;32m   2264\u001b[0m \u001b[43m    \u001b[49m\u001b[43mverbose\u001b[49m\u001b[38;5;241;43m=\u001b[39;49m\u001b[43mverbose\u001b[49m\u001b[43m,\u001b[49m\n\u001b[0;32m   2265\u001b[0m \u001b[43m    \u001b[49m\u001b[43mcallbacks\u001b[49m\u001b[38;5;241;43m=\u001b[39;49m\u001b[43mcallbacks\u001b[49m\u001b[43m,\u001b[49m\n\u001b[0;32m   2266\u001b[0m \u001b[43m    \u001b[49m\u001b[43mvalidation_data\u001b[49m\u001b[38;5;241;43m=\u001b[39;49m\u001b[43mvalidation_data\u001b[49m\u001b[43m,\u001b[49m\n\u001b[0;32m   2267\u001b[0m \u001b[43m    \u001b[49m\u001b[43mvalidation_steps\u001b[49m\u001b[38;5;241;43m=\u001b[39;49m\u001b[43mvalidation_steps\u001b[49m\u001b[43m,\u001b[49m\n\u001b[0;32m   2268\u001b[0m \u001b[43m    \u001b[49m\u001b[43mvalidation_freq\u001b[49m\u001b[38;5;241;43m=\u001b[39;49m\u001b[43mvalidation_freq\u001b[49m\u001b[43m,\u001b[49m\n\u001b[0;32m   2269\u001b[0m \u001b[43m    \u001b[49m\u001b[43mclass_weight\u001b[49m\u001b[38;5;241;43m=\u001b[39;49m\u001b[43mclass_weight\u001b[49m\u001b[43m,\u001b[49m\n\u001b[0;32m   2270\u001b[0m \u001b[43m    \u001b[49m\u001b[43mmax_queue_size\u001b[49m\u001b[38;5;241;43m=\u001b[39;49m\u001b[43mmax_queue_size\u001b[49m\u001b[43m,\u001b[49m\n\u001b[0;32m   2271\u001b[0m \u001b[43m    \u001b[49m\u001b[43mworkers\u001b[49m\u001b[38;5;241;43m=\u001b[39;49m\u001b[43mworkers\u001b[49m\u001b[43m,\u001b[49m\n\u001b[0;32m   2272\u001b[0m \u001b[43m    \u001b[49m\u001b[43muse_multiprocessing\u001b[49m\u001b[38;5;241;43m=\u001b[39;49m\u001b[43muse_multiprocessing\u001b[49m\u001b[43m,\u001b[49m\n\u001b[0;32m   2273\u001b[0m \u001b[43m    \u001b[49m\u001b[43mshuffle\u001b[49m\u001b[38;5;241;43m=\u001b[39;49m\u001b[43mshuffle\u001b[49m\u001b[43m,\u001b[49m\n\u001b[0;32m   2274\u001b[0m \u001b[43m    \u001b[49m\u001b[43minitial_epoch\u001b[49m\u001b[38;5;241;43m=\u001b[39;49m\u001b[43minitial_epoch\u001b[49m\u001b[43m)\u001b[49m\n",
      "File \u001b[1;32m~\\anaconda3\\lib\\site-packages\\keras\\utils\\traceback_utils.py:64\u001b[0m, in \u001b[0;36mfilter_traceback.<locals>.error_handler\u001b[1;34m(*args, **kwargs)\u001b[0m\n\u001b[0;32m     62\u001b[0m filtered_tb \u001b[38;5;241m=\u001b[39m \u001b[38;5;28;01mNone\u001b[39;00m\n\u001b[0;32m     63\u001b[0m \u001b[38;5;28;01mtry\u001b[39;00m:\n\u001b[1;32m---> 64\u001b[0m   \u001b[38;5;28;01mreturn\u001b[39;00m fn(\u001b[38;5;241m*\u001b[39margs, \u001b[38;5;241m*\u001b[39m\u001b[38;5;241m*\u001b[39mkwargs)\n\u001b[0;32m     65\u001b[0m \u001b[38;5;28;01mexcept\u001b[39;00m \u001b[38;5;167;01mException\u001b[39;00m \u001b[38;5;28;01mas\u001b[39;00m e:  \u001b[38;5;66;03m# pylint: disable=broad-except\u001b[39;00m\n\u001b[0;32m     66\u001b[0m   filtered_tb \u001b[38;5;241m=\u001b[39m _process_traceback_frames(e\u001b[38;5;241m.\u001b[39m__traceback__)\n",
      "File \u001b[1;32m~\\anaconda3\\lib\\site-packages\\keras\\engine\\training.py:1445\u001b[0m, in \u001b[0;36mModel.fit\u001b[1;34m(self, x, y, batch_size, epochs, verbose, callbacks, validation_split, validation_data, shuffle, class_weight, sample_weight, initial_epoch, steps_per_epoch, validation_steps, validation_batch_size, validation_freq, max_queue_size, workers, use_multiprocessing)\u001b[0m\n\u001b[0;32m   1431\u001b[0m \u001b[38;5;28;01mif\u001b[39;00m \u001b[38;5;28mgetattr\u001b[39m(\u001b[38;5;28mself\u001b[39m, \u001b[38;5;124m'\u001b[39m\u001b[38;5;124m_eval_data_handler\u001b[39m\u001b[38;5;124m'\u001b[39m, \u001b[38;5;28;01mNone\u001b[39;00m) \u001b[38;5;129;01mis\u001b[39;00m \u001b[38;5;28;01mNone\u001b[39;00m:\n\u001b[0;32m   1432\u001b[0m   \u001b[38;5;28mself\u001b[39m\u001b[38;5;241m.\u001b[39m_eval_data_handler \u001b[38;5;241m=\u001b[39m data_adapter\u001b[38;5;241m.\u001b[39mget_data_handler(\n\u001b[0;32m   1433\u001b[0m       x\u001b[38;5;241m=\u001b[39mval_x,\n\u001b[0;32m   1434\u001b[0m       y\u001b[38;5;241m=\u001b[39mval_y,\n\u001b[1;32m   (...)\u001b[0m\n\u001b[0;32m   1443\u001b[0m       model\u001b[38;5;241m=\u001b[39m\u001b[38;5;28mself\u001b[39m,\n\u001b[0;32m   1444\u001b[0m       steps_per_execution\u001b[38;5;241m=\u001b[39m\u001b[38;5;28mself\u001b[39m\u001b[38;5;241m.\u001b[39m_steps_per_execution)\n\u001b[1;32m-> 1445\u001b[0m val_logs \u001b[38;5;241m=\u001b[39m \u001b[38;5;28;43mself\u001b[39;49m\u001b[38;5;241;43m.\u001b[39;49m\u001b[43mevaluate\u001b[49m\u001b[43m(\u001b[49m\n\u001b[0;32m   1446\u001b[0m \u001b[43m    \u001b[49m\u001b[43mx\u001b[49m\u001b[38;5;241;43m=\u001b[39;49m\u001b[43mval_x\u001b[49m\u001b[43m,\u001b[49m\n\u001b[0;32m   1447\u001b[0m \u001b[43m    \u001b[49m\u001b[43my\u001b[49m\u001b[38;5;241;43m=\u001b[39;49m\u001b[43mval_y\u001b[49m\u001b[43m,\u001b[49m\n\u001b[0;32m   1448\u001b[0m \u001b[43m    \u001b[49m\u001b[43msample_weight\u001b[49m\u001b[38;5;241;43m=\u001b[39;49m\u001b[43mval_sample_weight\u001b[49m\u001b[43m,\u001b[49m\n\u001b[0;32m   1449\u001b[0m \u001b[43m    \u001b[49m\u001b[43mbatch_size\u001b[49m\u001b[38;5;241;43m=\u001b[39;49m\u001b[43mvalidation_batch_size\u001b[49m\u001b[43m \u001b[49m\u001b[38;5;129;43;01mor\u001b[39;49;00m\u001b[43m \u001b[49m\u001b[43mbatch_size\u001b[49m\u001b[43m,\u001b[49m\n\u001b[0;32m   1450\u001b[0m \u001b[43m    \u001b[49m\u001b[43msteps\u001b[49m\u001b[38;5;241;43m=\u001b[39;49m\u001b[43mvalidation_steps\u001b[49m\u001b[43m,\u001b[49m\n\u001b[0;32m   1451\u001b[0m \u001b[43m    \u001b[49m\u001b[43mcallbacks\u001b[49m\u001b[38;5;241;43m=\u001b[39;49m\u001b[43mcallbacks\u001b[49m\u001b[43m,\u001b[49m\n\u001b[0;32m   1452\u001b[0m \u001b[43m    \u001b[49m\u001b[43mmax_queue_size\u001b[49m\u001b[38;5;241;43m=\u001b[39;49m\u001b[43mmax_queue_size\u001b[49m\u001b[43m,\u001b[49m\n\u001b[0;32m   1453\u001b[0m \u001b[43m    \u001b[49m\u001b[43mworkers\u001b[49m\u001b[38;5;241;43m=\u001b[39;49m\u001b[43mworkers\u001b[49m\u001b[43m,\u001b[49m\n\u001b[0;32m   1454\u001b[0m \u001b[43m    \u001b[49m\u001b[43muse_multiprocessing\u001b[49m\u001b[38;5;241;43m=\u001b[39;49m\u001b[43muse_multiprocessing\u001b[49m\u001b[43m,\u001b[49m\n\u001b[0;32m   1455\u001b[0m \u001b[43m    \u001b[49m\u001b[43mreturn_dict\u001b[49m\u001b[38;5;241;43m=\u001b[39;49m\u001b[38;5;28;43;01mTrue\u001b[39;49;00m\u001b[43m,\u001b[49m\n\u001b[0;32m   1456\u001b[0m \u001b[43m    \u001b[49m\u001b[43m_use_cached_eval_dataset\u001b[49m\u001b[38;5;241;43m=\u001b[39;49m\u001b[38;5;28;43;01mTrue\u001b[39;49;00m\u001b[43m)\u001b[49m\n\u001b[0;32m   1457\u001b[0m val_logs \u001b[38;5;241m=\u001b[39m {\u001b[38;5;124m'\u001b[39m\u001b[38;5;124mval_\u001b[39m\u001b[38;5;124m'\u001b[39m \u001b[38;5;241m+\u001b[39m name: val \u001b[38;5;28;01mfor\u001b[39;00m name, val \u001b[38;5;129;01min\u001b[39;00m val_logs\u001b[38;5;241m.\u001b[39mitems()}\n\u001b[0;32m   1458\u001b[0m epoch_logs\u001b[38;5;241m.\u001b[39mupdate(val_logs)\n",
      "File \u001b[1;32m~\\anaconda3\\lib\\site-packages\\keras\\utils\\traceback_utils.py:64\u001b[0m, in \u001b[0;36mfilter_traceback.<locals>.error_handler\u001b[1;34m(*args, **kwargs)\u001b[0m\n\u001b[0;32m     62\u001b[0m filtered_tb \u001b[38;5;241m=\u001b[39m \u001b[38;5;28;01mNone\u001b[39;00m\n\u001b[0;32m     63\u001b[0m \u001b[38;5;28;01mtry\u001b[39;00m:\n\u001b[1;32m---> 64\u001b[0m   \u001b[38;5;28;01mreturn\u001b[39;00m fn(\u001b[38;5;241m*\u001b[39margs, \u001b[38;5;241m*\u001b[39m\u001b[38;5;241m*\u001b[39mkwargs)\n\u001b[0;32m     65\u001b[0m \u001b[38;5;28;01mexcept\u001b[39;00m \u001b[38;5;167;01mException\u001b[39;00m \u001b[38;5;28;01mas\u001b[39;00m e:  \u001b[38;5;66;03m# pylint: disable=broad-except\u001b[39;00m\n\u001b[0;32m     66\u001b[0m   filtered_tb \u001b[38;5;241m=\u001b[39m _process_traceback_frames(e\u001b[38;5;241m.\u001b[39m__traceback__)\n",
      "File \u001b[1;32m~\\anaconda3\\lib\\site-packages\\keras\\engine\\training.py:1756\u001b[0m, in \u001b[0;36mModel.evaluate\u001b[1;34m(self, x, y, batch_size, verbose, sample_weight, steps, callbacks, max_queue_size, workers, use_multiprocessing, return_dict, **kwargs)\u001b[0m\n\u001b[0;32m   1754\u001b[0m \u001b[38;5;28;01mwith\u001b[39;00m tf\u001b[38;5;241m.\u001b[39mprofiler\u001b[38;5;241m.\u001b[39mexperimental\u001b[38;5;241m.\u001b[39mTrace(\u001b[38;5;124m'\u001b[39m\u001b[38;5;124mtest\u001b[39m\u001b[38;5;124m'\u001b[39m, step_num\u001b[38;5;241m=\u001b[39mstep, _r\u001b[38;5;241m=\u001b[39m\u001b[38;5;241m1\u001b[39m):\n\u001b[0;32m   1755\u001b[0m   callbacks\u001b[38;5;241m.\u001b[39mon_test_batch_begin(step)\n\u001b[1;32m-> 1756\u001b[0m   tmp_logs \u001b[38;5;241m=\u001b[39m \u001b[38;5;28;43mself\u001b[39;49m\u001b[38;5;241;43m.\u001b[39;49m\u001b[43mtest_function\u001b[49m\u001b[43m(\u001b[49m\u001b[43miterator\u001b[49m\u001b[43m)\u001b[49m\n\u001b[0;32m   1757\u001b[0m   \u001b[38;5;28;01mif\u001b[39;00m data_handler\u001b[38;5;241m.\u001b[39mshould_sync:\n\u001b[0;32m   1758\u001b[0m     context\u001b[38;5;241m.\u001b[39masync_wait()\n",
      "File \u001b[1;32m~\\anaconda3\\lib\\site-packages\\tensorflow\\python\\util\\traceback_utils.py:150\u001b[0m, in \u001b[0;36mfilter_traceback.<locals>.error_handler\u001b[1;34m(*args, **kwargs)\u001b[0m\n\u001b[0;32m    148\u001b[0m filtered_tb \u001b[38;5;241m=\u001b[39m \u001b[38;5;28;01mNone\u001b[39;00m\n\u001b[0;32m    149\u001b[0m \u001b[38;5;28;01mtry\u001b[39;00m:\n\u001b[1;32m--> 150\u001b[0m   \u001b[38;5;28;01mreturn\u001b[39;00m fn(\u001b[38;5;241m*\u001b[39margs, \u001b[38;5;241m*\u001b[39m\u001b[38;5;241m*\u001b[39mkwargs)\n\u001b[0;32m    151\u001b[0m \u001b[38;5;28;01mexcept\u001b[39;00m \u001b[38;5;167;01mException\u001b[39;00m \u001b[38;5;28;01mas\u001b[39;00m e:\n\u001b[0;32m    152\u001b[0m   filtered_tb \u001b[38;5;241m=\u001b[39m _process_traceback_frames(e\u001b[38;5;241m.\u001b[39m__traceback__)\n",
      "File \u001b[1;32m~\\anaconda3\\lib\\site-packages\\tensorflow\\python\\eager\\def_function.py:915\u001b[0m, in \u001b[0;36mFunction.__call__\u001b[1;34m(self, *args, **kwds)\u001b[0m\n\u001b[0;32m    912\u001b[0m compiler \u001b[38;5;241m=\u001b[39m \u001b[38;5;124m\"\u001b[39m\u001b[38;5;124mxla\u001b[39m\u001b[38;5;124m\"\u001b[39m \u001b[38;5;28;01mif\u001b[39;00m \u001b[38;5;28mself\u001b[39m\u001b[38;5;241m.\u001b[39m_jit_compile \u001b[38;5;28;01melse\u001b[39;00m \u001b[38;5;124m\"\u001b[39m\u001b[38;5;124mnonXla\u001b[39m\u001b[38;5;124m\"\u001b[39m\n\u001b[0;32m    914\u001b[0m \u001b[38;5;28;01mwith\u001b[39;00m OptionalXlaContext(\u001b[38;5;28mself\u001b[39m\u001b[38;5;241m.\u001b[39m_jit_compile):\n\u001b[1;32m--> 915\u001b[0m   result \u001b[38;5;241m=\u001b[39m \u001b[38;5;28mself\u001b[39m\u001b[38;5;241m.\u001b[39m_call(\u001b[38;5;241m*\u001b[39margs, \u001b[38;5;241m*\u001b[39m\u001b[38;5;241m*\u001b[39mkwds)\n\u001b[0;32m    917\u001b[0m new_tracing_count \u001b[38;5;241m=\u001b[39m \u001b[38;5;28mself\u001b[39m\u001b[38;5;241m.\u001b[39mexperimental_get_tracing_count()\n\u001b[0;32m    918\u001b[0m without_tracing \u001b[38;5;241m=\u001b[39m (tracing_count \u001b[38;5;241m==\u001b[39m new_tracing_count)\n",
      "File \u001b[1;32m~\\anaconda3\\lib\\site-packages\\tensorflow\\python\\eager\\def_function.py:954\u001b[0m, in \u001b[0;36mFunction._call\u001b[1;34m(self, *args, **kwds)\u001b[0m\n\u001b[0;32m    951\u001b[0m \u001b[38;5;28mself\u001b[39m\u001b[38;5;241m.\u001b[39m_lock\u001b[38;5;241m.\u001b[39mrelease()\n\u001b[0;32m    952\u001b[0m \u001b[38;5;66;03m# In this case we have not created variables on the first call. So we can\u001b[39;00m\n\u001b[0;32m    953\u001b[0m \u001b[38;5;66;03m# run the first trace but we should fail if variables are created.\u001b[39;00m\n\u001b[1;32m--> 954\u001b[0m results \u001b[38;5;241m=\u001b[39m \u001b[38;5;28mself\u001b[39m\u001b[38;5;241m.\u001b[39m_stateful_fn(\u001b[38;5;241m*\u001b[39margs, \u001b[38;5;241m*\u001b[39m\u001b[38;5;241m*\u001b[39mkwds)\n\u001b[0;32m    955\u001b[0m \u001b[38;5;28;01mif\u001b[39;00m \u001b[38;5;28mself\u001b[39m\u001b[38;5;241m.\u001b[39m_created_variables \u001b[38;5;129;01mand\u001b[39;00m \u001b[38;5;129;01mnot\u001b[39;00m ALLOW_DYNAMIC_VARIABLE_CREATION:\n\u001b[0;32m    956\u001b[0m   \u001b[38;5;28;01mraise\u001b[39;00m \u001b[38;5;167;01mValueError\u001b[39;00m(\u001b[38;5;124m\"\u001b[39m\u001b[38;5;124mCreating variables on a non-first call to a function\u001b[39m\u001b[38;5;124m\"\u001b[39m\n\u001b[0;32m    957\u001b[0m                    \u001b[38;5;124m\"\u001b[39m\u001b[38;5;124m decorated with tf.function.\u001b[39m\u001b[38;5;124m\"\u001b[39m)\n",
      "File \u001b[1;32m~\\anaconda3\\lib\\site-packages\\tensorflow\\python\\eager\\function.py:2453\u001b[0m, in \u001b[0;36mFunction.__call__\u001b[1;34m(self, *args, **kwargs)\u001b[0m\n\u001b[0;32m   2450\u001b[0m \u001b[38;5;28;01mwith\u001b[39;00m \u001b[38;5;28mself\u001b[39m\u001b[38;5;241m.\u001b[39m_lock:\n\u001b[0;32m   2451\u001b[0m   (graph_function,\n\u001b[0;32m   2452\u001b[0m    filtered_flat_args) \u001b[38;5;241m=\u001b[39m \u001b[38;5;28mself\u001b[39m\u001b[38;5;241m.\u001b[39m_maybe_define_function(args, kwargs)\n\u001b[1;32m-> 2453\u001b[0m \u001b[38;5;28;01mreturn\u001b[39;00m \u001b[43mgraph_function\u001b[49m\u001b[38;5;241;43m.\u001b[39;49m\u001b[43m_call_flat\u001b[49m\u001b[43m(\u001b[49m\n\u001b[0;32m   2454\u001b[0m \u001b[43m    \u001b[49m\u001b[43mfiltered_flat_args\u001b[49m\u001b[43m,\u001b[49m\u001b[43m \u001b[49m\u001b[43mcaptured_inputs\u001b[49m\u001b[38;5;241;43m=\u001b[39;49m\u001b[43mgraph_function\u001b[49m\u001b[38;5;241;43m.\u001b[39;49m\u001b[43mcaptured_inputs\u001b[49m\u001b[43m)\u001b[49m\n",
      "File \u001b[1;32m~\\anaconda3\\lib\\site-packages\\tensorflow\\python\\eager\\function.py:1860\u001b[0m, in \u001b[0;36mConcreteFunction._call_flat\u001b[1;34m(self, args, captured_inputs, cancellation_manager)\u001b[0m\n\u001b[0;32m   1856\u001b[0m possible_gradient_type \u001b[38;5;241m=\u001b[39m gradients_util\u001b[38;5;241m.\u001b[39mPossibleTapeGradientTypes(args)\n\u001b[0;32m   1857\u001b[0m \u001b[38;5;28;01mif\u001b[39;00m (possible_gradient_type \u001b[38;5;241m==\u001b[39m gradients_util\u001b[38;5;241m.\u001b[39mPOSSIBLE_GRADIENT_TYPES_NONE\n\u001b[0;32m   1858\u001b[0m     \u001b[38;5;129;01mand\u001b[39;00m executing_eagerly):\n\u001b[0;32m   1859\u001b[0m   \u001b[38;5;66;03m# No tape is watching; skip to running the function.\u001b[39;00m\n\u001b[1;32m-> 1860\u001b[0m   \u001b[38;5;28;01mreturn\u001b[39;00m \u001b[38;5;28mself\u001b[39m\u001b[38;5;241m.\u001b[39m_build_call_outputs(\u001b[38;5;28;43mself\u001b[39;49m\u001b[38;5;241;43m.\u001b[39;49m\u001b[43m_inference_function\u001b[49m\u001b[38;5;241;43m.\u001b[39;49m\u001b[43mcall\u001b[49m\u001b[43m(\u001b[49m\n\u001b[0;32m   1861\u001b[0m \u001b[43m      \u001b[49m\u001b[43mctx\u001b[49m\u001b[43m,\u001b[49m\u001b[43m \u001b[49m\u001b[43margs\u001b[49m\u001b[43m,\u001b[49m\u001b[43m \u001b[49m\u001b[43mcancellation_manager\u001b[49m\u001b[38;5;241;43m=\u001b[39;49m\u001b[43mcancellation_manager\u001b[49m\u001b[43m)\u001b[49m)\n\u001b[0;32m   1862\u001b[0m forward_backward \u001b[38;5;241m=\u001b[39m \u001b[38;5;28mself\u001b[39m\u001b[38;5;241m.\u001b[39m_select_forward_and_backward_functions(\n\u001b[0;32m   1863\u001b[0m     args,\n\u001b[0;32m   1864\u001b[0m     possible_gradient_type,\n\u001b[0;32m   1865\u001b[0m     executing_eagerly)\n\u001b[0;32m   1866\u001b[0m forward_function, args_with_tangents \u001b[38;5;241m=\u001b[39m forward_backward\u001b[38;5;241m.\u001b[39mforward()\n",
      "File \u001b[1;32m~\\anaconda3\\lib\\site-packages\\tensorflow\\python\\eager\\function.py:497\u001b[0m, in \u001b[0;36m_EagerDefinedFunction.call\u001b[1;34m(self, ctx, args, cancellation_manager)\u001b[0m\n\u001b[0;32m    495\u001b[0m \u001b[38;5;28;01mwith\u001b[39;00m _InterpolateFunctionError(\u001b[38;5;28mself\u001b[39m):\n\u001b[0;32m    496\u001b[0m   \u001b[38;5;28;01mif\u001b[39;00m cancellation_manager \u001b[38;5;129;01mis\u001b[39;00m \u001b[38;5;28;01mNone\u001b[39;00m:\n\u001b[1;32m--> 497\u001b[0m     outputs \u001b[38;5;241m=\u001b[39m \u001b[43mexecute\u001b[49m\u001b[38;5;241;43m.\u001b[39;49m\u001b[43mexecute\u001b[49m\u001b[43m(\u001b[49m\n\u001b[0;32m    498\u001b[0m \u001b[43m        \u001b[49m\u001b[38;5;28;43mstr\u001b[39;49m\u001b[43m(\u001b[49m\u001b[38;5;28;43mself\u001b[39;49m\u001b[38;5;241;43m.\u001b[39;49m\u001b[43msignature\u001b[49m\u001b[38;5;241;43m.\u001b[39;49m\u001b[43mname\u001b[49m\u001b[43m)\u001b[49m\u001b[43m,\u001b[49m\n\u001b[0;32m    499\u001b[0m \u001b[43m        \u001b[49m\u001b[43mnum_outputs\u001b[49m\u001b[38;5;241;43m=\u001b[39;49m\u001b[38;5;28;43mself\u001b[39;49m\u001b[38;5;241;43m.\u001b[39;49m\u001b[43m_num_outputs\u001b[49m\u001b[43m,\u001b[49m\n\u001b[0;32m    500\u001b[0m \u001b[43m        \u001b[49m\u001b[43minputs\u001b[49m\u001b[38;5;241;43m=\u001b[39;49m\u001b[43margs\u001b[49m\u001b[43m,\u001b[49m\n\u001b[0;32m    501\u001b[0m \u001b[43m        \u001b[49m\u001b[43mattrs\u001b[49m\u001b[38;5;241;43m=\u001b[39;49m\u001b[43mattrs\u001b[49m\u001b[43m,\u001b[49m\n\u001b[0;32m    502\u001b[0m \u001b[43m        \u001b[49m\u001b[43mctx\u001b[49m\u001b[38;5;241;43m=\u001b[39;49m\u001b[43mctx\u001b[49m\u001b[43m)\u001b[49m\n\u001b[0;32m    503\u001b[0m   \u001b[38;5;28;01melse\u001b[39;00m:\n\u001b[0;32m    504\u001b[0m     outputs \u001b[38;5;241m=\u001b[39m execute\u001b[38;5;241m.\u001b[39mexecute_with_cancellation(\n\u001b[0;32m    505\u001b[0m         \u001b[38;5;28mstr\u001b[39m(\u001b[38;5;28mself\u001b[39m\u001b[38;5;241m.\u001b[39msignature\u001b[38;5;241m.\u001b[39mname),\n\u001b[0;32m    506\u001b[0m         num_outputs\u001b[38;5;241m=\u001b[39m\u001b[38;5;28mself\u001b[39m\u001b[38;5;241m.\u001b[39m_num_outputs,\n\u001b[1;32m   (...)\u001b[0m\n\u001b[0;32m    509\u001b[0m         ctx\u001b[38;5;241m=\u001b[39mctx,\n\u001b[0;32m    510\u001b[0m         cancellation_manager\u001b[38;5;241m=\u001b[39mcancellation_manager)\n",
      "File \u001b[1;32m~\\anaconda3\\lib\\site-packages\\tensorflow\\python\\eager\\execute.py:54\u001b[0m, in \u001b[0;36mquick_execute\u001b[1;34m(op_name, num_outputs, inputs, attrs, ctx, name)\u001b[0m\n\u001b[0;32m     52\u001b[0m \u001b[38;5;28;01mtry\u001b[39;00m:\n\u001b[0;32m     53\u001b[0m   ctx\u001b[38;5;241m.\u001b[39mensure_initialized()\n\u001b[1;32m---> 54\u001b[0m   tensors \u001b[38;5;241m=\u001b[39m \u001b[43mpywrap_tfe\u001b[49m\u001b[38;5;241;43m.\u001b[39;49m\u001b[43mTFE_Py_Execute\u001b[49m\u001b[43m(\u001b[49m\u001b[43mctx\u001b[49m\u001b[38;5;241;43m.\u001b[39;49m\u001b[43m_handle\u001b[49m\u001b[43m,\u001b[49m\u001b[43m \u001b[49m\u001b[43mdevice_name\u001b[49m\u001b[43m,\u001b[49m\u001b[43m \u001b[49m\u001b[43mop_name\u001b[49m\u001b[43m,\u001b[49m\n\u001b[0;32m     55\u001b[0m \u001b[43m                                      \u001b[49m\u001b[43minputs\u001b[49m\u001b[43m,\u001b[49m\u001b[43m \u001b[49m\u001b[43mattrs\u001b[49m\u001b[43m,\u001b[49m\u001b[43m \u001b[49m\u001b[43mnum_outputs\u001b[49m\u001b[43m)\u001b[49m\n\u001b[0;32m     56\u001b[0m \u001b[38;5;28;01mexcept\u001b[39;00m core\u001b[38;5;241m.\u001b[39m_NotOkStatusException \u001b[38;5;28;01mas\u001b[39;00m e:\n\u001b[0;32m     57\u001b[0m   \u001b[38;5;28;01mif\u001b[39;00m name \u001b[38;5;129;01mis\u001b[39;00m \u001b[38;5;129;01mnot\u001b[39;00m \u001b[38;5;28;01mNone\u001b[39;00m:\n",
      "\u001b[1;31mKeyboardInterrupt\u001b[0m: "
     ]
    }
   ],
   "source": [
    " model.fit_generator(\n",
    "  training_set,\n",
    "  validation_data=test_set,\n",
    "  epochs=200,\n",
    "  steps_per_epoch=len(training_set),\n",
    "  validation_steps=len(test_set)\n",
    ")"
   ]
  },
  {
   "cell_type": "code",
   "execution_count": 138,
   "id": "46d2d414",
   "metadata": {},
   "outputs": [],
   "source": [
    "model.save('Veg.h5')"
   ]
  },
  {
   "cell_type": "code",
   "execution_count": null,
   "id": "17c5c765",
   "metadata": {},
   "outputs": [],
   "source": []
  }
 ],
 "metadata": {
  "kernelspec": {
   "display_name": "Python 3 (ipykernel)",
   "language": "python",
   "name": "python3"
  },
  "language_info": {
   "codemirror_mode": {
    "name": "ipython",
    "version": 3
   },
   "file_extension": ".py",
   "mimetype": "text/x-python",
   "name": "python",
   "nbconvert_exporter": "python",
   "pygments_lexer": "ipython3",
   "version": "3.9.12"
  }
 },
 "nbformat": 4,
 "nbformat_minor": 5
}
